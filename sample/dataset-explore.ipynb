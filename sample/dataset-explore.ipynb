{
 "cells": [
  {
   "cell_type": "markdown",
   "id": "a7b6ebc1-04d7-40b9-8f0e-e876f8886cd1",
   "metadata": {},
   "source": [
    "# Visual Layer SDK Explorer\n",
    "\n",
    "This notebook shows you how to use Visual Layer SDK to upload, explore, and filter datasets. \n",
    "\n",
    "**Prerequisite**\n",
    "\n",
    "You need to have valid Visual Layer account in order to be able to interact with Visual Layer service. \n",
    "Once you have an account, you will need to get VISUAL_LAYER_API_KEY and VISUAL_LAYER_API_SECRET and put it in environment variables."
   ]
  },
  {
   "cell_type": "code",
   "execution_count": 2,
   "id": "35bb0b90-e0de-4ca3-b755-36b1368831a2",
   "metadata": {},
   "outputs": [],
   "source": [
    "# uncomment this to install necessary packages\n",
    "# !pip install matplotlib\n",
    "# !pip install visual-layer-sdk -i https://test.pypi.org/simple/"
   ]
  },
  {
   "cell_type": "code",
   "execution_count": 4,
   "id": "b9d7dd21-e350-41e7-b03c-da73ba8fe4ea",
   "metadata": {},
   "outputs": [
    {
     "name": "stdout",
     "output_type": "stream",
     "text": [
      "client status: {'status': 'Green', 'service-health-message': 'none', 'version': '2.42.190'}\n"
     ]
    }
   ],
   "source": [
    "import os\n",
    "import matplotlib.pyplot as plt\n",
    "import matplotlib.image as mpimg\n",
    "from IPython.display import Image, display\n",
    "from visual_layer_sdk import VisualLayerClient\n",
    "from dotenv import load_dotenv\n",
    "load_dotenv()\n",
    "VL_API_KEY = os.getenv('VISUAL_LAYER_API_KEY')\n",
    "VL_API_SECRET = os.getenv('VISUAL_LAYER_API_SECRET')\n",
    "\n",
    "if VL_API_KEY is None or VL_API_SECRET is None:\n",
    "    raise EnvironmentError(\"Please configure VISUAL_LAYER_API_KEY and VISUAL_LAYER_API_SECRET environment variable.\")\n",
    "\n",
    "# Initialize the client and do a quick health check\n",
    "client = VisualLayerClient(api_key=VL_API_KEY, api_secret=VL_API_SECRET)\n",
    "print(f\"client status: {client.healthcheck()}\")"
   ]
  },
  {
   "cell_type": "code",
   "execution_count": 5,
   "id": "a18b2a9b-1155-4dff-9c45-09e03081f10a",
   "metadata": {},
   "outputs": [],
   "source": [
    "# utility function to display images in a given dataset with input image IDs\n",
    "def display_images(ds, image_uris):\n",
    "    for index, image_uri in enumerate(image_uris):\n",
    "        image_url = ds.get_image_info(image_uri)['image_uri']\n",
    "        display(Image(url=image_url))"
   ]
  },
  {
   "cell_type": "markdown",
   "id": "dbba811e-6539-4ef7-b224-516804acbfb4",
   "metadata": {},
   "source": [
    "# Basic Dataset Exploration APIs"
   ]
  },
  {
   "cell_type": "code",
   "execution_count": 6,
   "id": "bf5c7afa-4d57-447d-8058-ec8a9c9e6956",
   "metadata": {},
   "outputs": [
    {
     "name": "stdout",
     "output_type": "stream",
     "text": [
      "Found 40 datasets\n"
     ]
    }
   ],
   "source": [
    "# Get all datasets\n",
    "datasets = client.get_all_datasets()\n",
    "print(f\"Found {len(datasets)} datasets\")"
   ]
  },
  {
   "cell_type": "code",
   "execution_count": 7,
   "id": "b8a43a38-1206-4039-92aa-05735e016325",
   "metadata": {},
   "outputs": [
    {
     "name": "stdout",
     "output_type": "stream",
     "text": [
      "Dataset details: {'id': 'b66848f6-56d1-11f0-9bb7-7e21cd95c256', 'created_by': 'd92cf865-4110-404d-8250-97711aaaf3ae', 'source_dataset_id': None, 'owned_by': 'VL', 'display_name': 'Dataset 11', 'description': '', 'preview_uri': '', 'source_type': 'VL', 'source_uri': '', 'created_at': '2025-07-01T23:18:35.728673', 'updated_at': None, 'filename': None, 'sample': None, 'status': 'INITIALIZING'}\n"
     ]
    }
   ],
   "source": [
    "# Get a specific dataset by dataset ID\n",
    "ds_id = datasets.iloc[0]['id']\n",
    "ds = client.get_dataset_object(ds_id)\n",
    "details = ds.get_details()\n",
    "print(f\"Dataset details: {details}\")"
   ]
  },
  {
   "cell_type": "code",
   "execution_count": 8,
   "id": "895be23b-bb2e-47c1-ad8f-ec61c6a6ba5c",
   "metadata": {},
   "outputs": [
    {
     "ename": "TypeCheckError",
     "evalue": "the return value (dict) is not a list",
     "output_type": "error",
     "traceback": [
      "\u001b[31m---------------------------------------------------------------------------\u001b[39m",
      "\u001b[31mTypeCheckError\u001b[39m                            Traceback (most recent call last)",
      "\u001b[36mCell\u001b[39m\u001b[36m \u001b[39m\u001b[32mIn[8]\u001b[39m\u001b[32m, line 9\u001b[39m\n\u001b[32m      6\u001b[39m leaf_df = leaf_ds.export_to_dataframe()\n\u001b[32m      8\u001b[39m \u001b[38;5;66;03m# display first 2 images\u001b[39;00m\n\u001b[32m----> \u001b[39m\u001b[32m9\u001b[39m \u001b[43mdisplay_images\u001b[49m\u001b[43m(\u001b[49m\u001b[43mleaf_ds\u001b[49m\u001b[43m,\u001b[49m\u001b[43m \u001b[49m\u001b[43mleaf_df\u001b[49m\u001b[43m.\u001b[49m\u001b[43miloc\u001b[49m\u001b[43m[\u001b[49m\u001b[43m:\u001b[49m\u001b[32;43m2\u001b[39;49m\u001b[43m]\u001b[49m\u001b[43m[\u001b[49m\u001b[33;43m'\u001b[39;49m\u001b[33;43mmedia_id\u001b[39;49m\u001b[33;43m'\u001b[39;49m\u001b[43m]\u001b[49m\u001b[43m)\u001b[49m\n",
      "\u001b[36mCell\u001b[39m\u001b[36m \u001b[39m\u001b[32mIn[5]\u001b[39m\u001b[32m, line 4\u001b[39m, in \u001b[36mdisplay_images\u001b[39m\u001b[34m(ds, image_uris)\u001b[39m\n\u001b[32m      2\u001b[39m \u001b[38;5;28;01mdef\u001b[39;00m\u001b[38;5;250m \u001b[39m\u001b[34mdisplay_images\u001b[39m(ds, image_uris):\n\u001b[32m      3\u001b[39m     \u001b[38;5;28;01mfor\u001b[39;00m index, image_uri \u001b[38;5;129;01min\u001b[39;00m \u001b[38;5;28menumerate\u001b[39m(image_uris):\n\u001b[32m----> \u001b[39m\u001b[32m4\u001b[39m         image_url = \u001b[43mds\u001b[49m\u001b[43m.\u001b[49m\u001b[43mget_image_info\u001b[49m\u001b[43m(\u001b[49m\u001b[43mimage_uri\u001b[49m\u001b[43m)\u001b[49m[\u001b[33m'\u001b[39m\u001b[33mimage_uri\u001b[39m\u001b[33m'\u001b[39m]\n\u001b[32m      5\u001b[39m         display(Image(url=image_url))\n",
      "\u001b[36mFile \u001b[39m\u001b[32m~/Documents/vl-sdk/vl-sdk/venv/lib/python3.13/site-packages/visual_layer_sdk/dataset.py:173\u001b[39m, in \u001b[36mget_image_info\u001b[39m\u001b[34m(self, image_id)\u001b[39m\n\u001b[32m    168\u001b[39m response = \u001b[38;5;28mself\u001b[39m.client.session.get(\n\u001b[32m    169\u001b[39m     \u001b[33mf\u001b[39m\u001b[33m\"\u001b[39m\u001b[38;5;132;01m{\u001b[39;00m\u001b[38;5;28mself\u001b[39m.base_url\u001b[38;5;132;01m}\u001b[39;00m\u001b[33m/image/\u001b[39m\u001b[38;5;132;01m{\u001b[39;00mimage_id\u001b[38;5;132;01m}\u001b[39;00m\u001b[33m\"\u001b[39m,\n\u001b[32m    170\u001b[39m     headers=\u001b[38;5;28mself\u001b[39m.client._get_headers(),\n\u001b[32m    171\u001b[39m )\n\u001b[32m    172\u001b[39m response.raise_for_status()\n\u001b[32m--> \u001b[39m\u001b[32m173\u001b[39m \u001b[38;5;28;01mreturn\u001b[39;00m response.json()\n",
      "\u001b[36mFile \u001b[39m\u001b[32m~/Documents/vl-sdk/vl-sdk/venv/lib/python3.13/site-packages/typeguard/_functions.py:166\u001b[39m, in \u001b[36mcheck_return_type\u001b[39m\u001b[34m(func_name, retval, annotation, memo)\u001b[39m\n\u001b[32m    163\u001b[39m         \u001b[38;5;28;01mraise\u001b[39;00m exc\n\u001b[32m    165\u001b[39m \u001b[38;5;28;01mtry\u001b[39;00m:\n\u001b[32m--> \u001b[39m\u001b[32m166\u001b[39m     \u001b[43mcheck_type_internal\u001b[49m\u001b[43m(\u001b[49m\u001b[43mretval\u001b[49m\u001b[43m,\u001b[49m\u001b[43m \u001b[49m\u001b[43mannotation\u001b[49m\u001b[43m,\u001b[49m\u001b[43m \u001b[49m\u001b[43mmemo\u001b[49m\u001b[43m)\u001b[49m\n\u001b[32m    167\u001b[39m \u001b[38;5;28;01mexcept\u001b[39;00m TypeCheckError \u001b[38;5;28;01mas\u001b[39;00m exc:\n\u001b[32m    168\u001b[39m     \u001b[38;5;66;03m# Allow NotImplemented if this is a binary magic method (__eq__() et al)\u001b[39;00m\n\u001b[32m    169\u001b[39m     \u001b[38;5;28;01mif\u001b[39;00m retval \u001b[38;5;129;01mis\u001b[39;00m \u001b[38;5;28mNotImplemented\u001b[39m \u001b[38;5;129;01mand\u001b[39;00m annotation \u001b[38;5;129;01mis\u001b[39;00m \u001b[38;5;28mbool\u001b[39m:\n\u001b[32m    170\u001b[39m         \u001b[38;5;66;03m# This does (and cannot) not check if it's actually a method\u001b[39;00m\n",
      "\u001b[36mFile \u001b[39m\u001b[32m~/Documents/vl-sdk/vl-sdk/venv/lib/python3.13/site-packages/typeguard/_checkers.py:960\u001b[39m, in \u001b[36mcheck_type_internal\u001b[39m\u001b[34m(value, annotation, memo)\u001b[39m\n\u001b[32m    958\u001b[39m     checker = lookup_func(origin_type, args, extras)\n\u001b[32m    959\u001b[39m     \u001b[38;5;28;01mif\u001b[39;00m checker:\n\u001b[32m--> \u001b[39m\u001b[32m960\u001b[39m         \u001b[43mchecker\u001b[49m\u001b[43m(\u001b[49m\u001b[43mvalue\u001b[49m\u001b[43m,\u001b[49m\u001b[43m \u001b[49m\u001b[43morigin_type\u001b[49m\u001b[43m,\u001b[49m\u001b[43m \u001b[49m\u001b[43margs\u001b[49m\u001b[43m,\u001b[49m\u001b[43m \u001b[49m\u001b[43mmemo\u001b[49m\u001b[43m)\u001b[49m\n\u001b[32m    961\u001b[39m         \u001b[38;5;28;01mreturn\u001b[39;00m\n\u001b[32m    963\u001b[39m \u001b[38;5;28;01mif\u001b[39;00m isclass(origin_type):\n",
      "\u001b[36mFile \u001b[39m\u001b[32m~/Documents/vl-sdk/vl-sdk/venv/lib/python3.13/site-packages/typeguard/_checkers.py:295\u001b[39m, in \u001b[36mcheck_list\u001b[39m\u001b[34m(value, origin_type, args, memo)\u001b[39m\n\u001b[32m    288\u001b[39m \u001b[38;5;28;01mdef\u001b[39;00m\u001b[38;5;250m \u001b[39m\u001b[34mcheck_list\u001b[39m(\n\u001b[32m    289\u001b[39m     value: Any,\n\u001b[32m    290\u001b[39m     origin_type: Any,\n\u001b[32m    291\u001b[39m     args: \u001b[38;5;28mtuple\u001b[39m[Any, ...],\n\u001b[32m    292\u001b[39m     memo: TypeCheckMemo,\n\u001b[32m    293\u001b[39m ) -> \u001b[38;5;28;01mNone\u001b[39;00m:\n\u001b[32m    294\u001b[39m     \u001b[38;5;28;01mif\u001b[39;00m \u001b[38;5;129;01mnot\u001b[39;00m \u001b[38;5;28misinstance\u001b[39m(value, \u001b[38;5;28mlist\u001b[39m):\n\u001b[32m--> \u001b[39m\u001b[32m295\u001b[39m         \u001b[38;5;28;01mraise\u001b[39;00m TypeCheckError(\u001b[33m\"\u001b[39m\u001b[33mis not a list\u001b[39m\u001b[33m\"\u001b[39m)\n\u001b[32m    297\u001b[39m     \u001b[38;5;28;01mif\u001b[39;00m args \u001b[38;5;129;01mand\u001b[39;00m args != (Any,):\n\u001b[32m    298\u001b[39m         samples = memo.config.collection_check_strategy.iterate_samples(value)\n",
      "\u001b[31mTypeCheckError\u001b[39m: the return value (dict) is not a list"
     ]
    }
   ],
   "source": [
    "# Get a specific dataset by dataset ID, the 'Beans Enriched' dataset is a public dataset you can explore\n",
    "LEAF_DATASET_ID = 'bc41491e-78ae-11ef-ba4b-8a774758b536' \n",
    "leaf_ds = client.get_dataset_object(LEAF_DATASET_ID)\n",
    "\n",
    "# export all images in the dataset to a dataframe\n",
    "leaf_df = leaf_ds.export_to_dataframe()\n",
    "\n",
    "# display first 2 images\n",
    "display_images(leaf_ds, leaf_df.iloc[:2]['media_id'])"
   ]
  },
  {
   "cell_type": "markdown",
   "id": "80c80c78-2af2-482f-b7ca-9893c4289f02",
   "metadata": {},
   "source": [
    "# Explore different filtering functionalities"
   ]
  },
  {
   "cell_type": "code",
   "execution_count": null,
   "id": "249f6872-1abc-4796-810e-24d1a8643a67",
   "metadata": {},
   "outputs": [],
   "source": [
    "# Search datasets by labels\n",
    "# Find the leaf with spot and bean rust\n",
    "filtered_df = leaf_ds.search_by_labels_to_dataframe(labels=['angular_leaf_spot', 'bean_rust'])\n",
    "\n",
    "# display first 2 images\n",
    "display_images(leaf_ds, filtered_df.iloc[:2]['media_id'])"
   ]
  },
  {
   "cell_type": "code",
   "execution_count": null,
   "id": "6609bdae-e823-47f4-962e-14228d363ce9",
   "metadata": {},
   "outputs": [],
   "source": [
    "# Search datasets by captions\n",
    "# find the data with a person holding leaf\n",
    "# try other text: \"blue nail\"\n",
    "filtered_df = leaf_ds.search_by_captions_to_dataframe(caption_text=['a person holding leaf'])\n",
    "\n",
    "display_images(leaf_ds, filtered_df.iloc[:2]['media_id'])"
   ]
  },
  {
   "cell_type": "markdown",
   "id": "a9102d63-d502-47a7-814d-4dc351220e98",
   "metadata": {},
   "source": [
    "# Let's explore another dataset and differnt filtering/search functions"
   ]
  },
  {
   "cell_type": "code",
   "execution_count": null,
   "id": "41ed0fe1-6746-4057-b1d4-348d6267ee33",
   "metadata": {},
   "outputs": [],
   "source": [
    "# Search datasets by issue types\n",
    "PET_DATASET_ID = '3972b3fc-1809-11ef-bb76-064432e0d220'\n",
    "pet_dataset = client.get_dataset_object(PET_DATASET_ID)\n",
    "\n",
    "# fild dataset that are blur\n",
    "filtered_df = pet_dataset.search_by_issues_to_dataframe(issue_type='blur')\n",
    "display_images(pet_dataset, filtered_df.iloc[:2]['media_id'])"
   ]
  },
  {
   "cell_type": "markdown",
   "id": "95ec125c-f06d-4a4e-9c38-badc17720e03",
   "metadata": {},
   "source": [
    "# try do a similarity search by uploading a file from your laptop"
   ]
  },
  {
   "cell_type": "code",
   "execution_count": null,
   "id": "e4a50193-5a7d-4f11-86c5-5865dc867a31",
   "metadata": {},
   "outputs": [],
   "source": [
    "# Similarity search, upload a file from your local folder \n",
    "local_image = os.path.join(os.getcwd(), 'dog.jpeg')\n",
    "                      \n",
    "similar_images_df = pet_dataset.search_by_visual_similarity_to_dataframe(image_path=local_image)\n",
    "display_images(pet_dataset, similar_images_df.iloc[:2]['media_id'])"
   ]
  },
  {
   "cell_type": "code",
   "execution_count": null,
   "id": "83ee3dde-fe64-462c-93aa-66c9495e590e",
   "metadata": {},
   "outputs": [],
   "source": [
    "# For advanced search, you can use the vql language. Please refer to the documentation for detailed syntax\n",
    "\n",
    "# Search cats in the dataset\n",
    "cats_df = pet_dataset.search_by_vql([{'id': 'label_filter', 'labels': {'op': 'one_of', 'value': ['cat']}}])\n",
    "display_images(pet_dataset, cats_df.iloc[:2]['media_id'])"
   ]
  },
  {
   "cell_type": "code",
   "execution_count": null,
   "id": "7e11cfb6-b2b2-4d6e-aae3-b14995ccb4a6",
   "metadata": {},
   "outputs": [],
   "source": []
  }
 ],
 "metadata": {
  "kernelspec": {
   "display_name": "Python 3 (ipykernel)",
   "language": "python",
   "name": "python3"
  },
  "language_info": {
   "codemirror_mode": {
    "name": "ipython",
    "version": 3
   },
   "file_extension": ".py",
   "mimetype": "text/x-python",
   "name": "python",
   "nbconvert_exporter": "python",
   "pygments_lexer": "ipython3",
   "version": "3.13.3"
  }
 },
 "nbformat": 4,
 "nbformat_minor": 5
}
