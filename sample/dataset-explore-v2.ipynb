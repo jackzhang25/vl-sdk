{
 "cells": [
  {
   "cell_type": "markdown",
   "id": "a7b6ebc1-04d7-40b9-8f0e-e876f8886cd1",
   "metadata": {},
   "source": [
    "# Visual Layer SDK Explorer\n",
    "\n",
    "This notebook shows you how to use Visual Layer SDK to upload, explore, and filter datasets. \n",
    "\n",
    "**Prerequisite**\n",
    "\n",
    "You need to have valid Visual Layer account in order to be able to interact with Visual Layer service. \n",
    "Once you have an account, you will need to get VISUAL_LAYER_API_KEY and VISUAL_LAYER_API_SECRET and put it in environment variables."
   ]
  },
  {
   "cell_type": "code",
   "execution_count": 1,
   "id": "35bb0b90-e0de-4ca3-b755-36b1368831a2",
   "metadata": {},
   "outputs": [
    {
     "name": "stdout",
     "output_type": "stream",
     "text": [
      "Requirement already satisfied: matplotlib in /Users/Jack/Documents/vl-sdk/vl-sdk/venv/lib/python3.13/site-packages (3.10.5)\n",
      "Requirement already satisfied: contourpy>=1.0.1 in /Users/Jack/Documents/vl-sdk/vl-sdk/venv/lib/python3.13/site-packages (from matplotlib) (1.3.3)\n",
      "Requirement already satisfied: cycler>=0.10 in /Users/Jack/Documents/vl-sdk/vl-sdk/venv/lib/python3.13/site-packages (from matplotlib) (0.12.1)\n",
      "Requirement already satisfied: fonttools>=4.22.0 in /Users/Jack/Documents/vl-sdk/vl-sdk/venv/lib/python3.13/site-packages (from matplotlib) (4.59.0)\n",
      "Requirement already satisfied: kiwisolver>=1.3.1 in /Users/Jack/Documents/vl-sdk/vl-sdk/venv/lib/python3.13/site-packages (from matplotlib) (1.4.8)\n",
      "Requirement already satisfied: numpy>=1.23 in /Users/Jack/Documents/vl-sdk/vl-sdk/venv/lib/python3.13/site-packages (from matplotlib) (2.3.1)\n",
      "Requirement already satisfied: packaging>=20.0 in /Users/Jack/Documents/vl-sdk/vl-sdk/venv/lib/python3.13/site-packages (from matplotlib) (25.0)\n",
      "Requirement already satisfied: pillow>=8 in /Users/Jack/Documents/vl-sdk/vl-sdk/venv/lib/python3.13/site-packages (from matplotlib) (11.3.0)\n",
      "Requirement already satisfied: pyparsing>=2.3.1 in /Users/Jack/Documents/vl-sdk/vl-sdk/venv/lib/python3.13/site-packages (from matplotlib) (3.2.3)\n",
      "Requirement already satisfied: python-dateutil>=2.7 in /Users/Jack/Documents/vl-sdk/vl-sdk/venv/lib/python3.13/site-packages (from matplotlib) (2.9.0.post0)\n",
      "Requirement already satisfied: six>=1.5 in /Users/Jack/Documents/vl-sdk/vl-sdk/venv/lib/python3.13/site-packages (from python-dateutil>=2.7->matplotlib) (1.17.0)\n",
      "\n",
      "\u001b[1m[\u001b[0m\u001b[34;49mnotice\u001b[0m\u001b[1;39;49m]\u001b[0m\u001b[39;49m A new release of pip is available: \u001b[0m\u001b[31;49m25.1.1\u001b[0m\u001b[39;49m -> \u001b[0m\u001b[32;49m25.2\u001b[0m\n",
      "\u001b[1m[\u001b[0m\u001b[34;49mnotice\u001b[0m\u001b[1;39;49m]\u001b[0m\u001b[39;49m To update, run: \u001b[0m\u001b[32;49mpip install --upgrade pip\u001b[0m\n",
      "Looking in indexes: https://test.pypi.org/simple/\n",
      "Requirement already satisfied: visual-layer-sdk in /Users/Jack/Documents/vl-sdk/vl-sdk/venv/lib/python3.13/site-packages (0.1.24)\n",
      "Requirement already satisfied: requests>=2.31.0 in /Users/Jack/Documents/vl-sdk/vl-sdk/venv/lib/python3.13/site-packages (from visual-layer-sdk) (2.32.4)\n",
      "Requirement already satisfied: python-dotenv>=1.0.0 in /Users/Jack/Documents/vl-sdk/vl-sdk/venv/lib/python3.13/site-packages (from visual-layer-sdk) (1.1.1)\n",
      "Requirement already satisfied: PyJWT>=2.8.0 in /Users/Jack/Documents/vl-sdk/vl-sdk/venv/lib/python3.13/site-packages (from visual-layer-sdk) (2.10.1)\n",
      "Requirement already satisfied: pandas>=2.2.0 in /Users/Jack/Documents/vl-sdk/vl-sdk/venv/lib/python3.13/site-packages (from visual-layer-sdk) (2.3.1)\n",
      "Requirement already satisfied: numpy>=1.26.0 in /Users/Jack/Documents/vl-sdk/vl-sdk/venv/lib/python3.13/site-packages (from pandas>=2.2.0->visual-layer-sdk) (2.3.1)\n",
      "Requirement already satisfied: python-dateutil>=2.8.2 in /Users/Jack/Documents/vl-sdk/vl-sdk/venv/lib/python3.13/site-packages (from pandas>=2.2.0->visual-layer-sdk) (2.9.0.post0)\n",
      "Requirement already satisfied: pytz>=2020.1 in /Users/Jack/Documents/vl-sdk/vl-sdk/venv/lib/python3.13/site-packages (from pandas>=2.2.0->visual-layer-sdk) (2025.2)\n",
      "Requirement already satisfied: tzdata>=2022.7 in /Users/Jack/Documents/vl-sdk/vl-sdk/venv/lib/python3.13/site-packages (from pandas>=2.2.0->visual-layer-sdk) (2025.2)\n",
      "Requirement already satisfied: six>=1.5 in /Users/Jack/Documents/vl-sdk/vl-sdk/venv/lib/python3.13/site-packages (from python-dateutil>=2.8.2->pandas>=2.2.0->visual-layer-sdk) (1.17.0)\n",
      "Requirement already satisfied: charset_normalizer<4,>=2 in /Users/Jack/Documents/vl-sdk/vl-sdk/venv/lib/python3.13/site-packages (from requests>=2.31.0->visual-layer-sdk) (3.4.2)\n",
      "Requirement already satisfied: idna<4,>=2.5 in /Users/Jack/Documents/vl-sdk/vl-sdk/venv/lib/python3.13/site-packages (from requests>=2.31.0->visual-layer-sdk) (3.10)\n",
      "Requirement already satisfied: urllib3<3,>=1.21.1 in /Users/Jack/Documents/vl-sdk/vl-sdk/venv/lib/python3.13/site-packages (from requests>=2.31.0->visual-layer-sdk) (2.5.0)\n",
      "Requirement already satisfied: certifi>=2017.4.17 in /Users/Jack/Documents/vl-sdk/vl-sdk/venv/lib/python3.13/site-packages (from requests>=2.31.0->visual-layer-sdk) (2025.7.14)\n",
      "\n",
      "\u001b[1m[\u001b[0m\u001b[34;49mnotice\u001b[0m\u001b[1;39;49m]\u001b[0m\u001b[39;49m A new release of pip is available: \u001b[0m\u001b[31;49m25.1.1\u001b[0m\u001b[39;49m -> \u001b[0m\u001b[32;49m25.2\u001b[0m\n",
      "\u001b[1m[\u001b[0m\u001b[34;49mnotice\u001b[0m\u001b[1;39;49m]\u001b[0m\u001b[39;49m To update, run: \u001b[0m\u001b[32;49mpip install --upgrade pip\u001b[0m\n"
     ]
    }
   ],
   "source": [
    "# uncomment this to install necessary packages\n",
    "#!pip install matplotlib\n",
    "#!pip install visual-layer-sdk -i https://test.pypi.org/simple/"
   ]
  },
  {
   "cell_type": "code",
   "execution_count": 2,
   "id": "f1dfe3ca-a2f3-441a-a8bc-d0de43824557",
   "metadata": {},
   "outputs": [
    {
     "name": "stdout",
     "output_type": "stream",
     "text": [
      "Looking in indexes: https://test.pypi.org/simple/\n",
      "Requirement already satisfied: visual-layer-sdk==0.1.24 in /Users/Jack/Documents/vl-sdk/vl-sdk/venv/lib/python3.13/site-packages (0.1.24)\n",
      "Requirement already satisfied: requests>=2.31.0 in /Users/Jack/Documents/vl-sdk/vl-sdk/venv/lib/python3.13/site-packages (from visual-layer-sdk==0.1.24) (2.32.4)\n",
      "Requirement already satisfied: python-dotenv>=1.0.0 in /Users/Jack/Documents/vl-sdk/vl-sdk/venv/lib/python3.13/site-packages (from visual-layer-sdk==0.1.24) (1.1.1)\n",
      "Requirement already satisfied: PyJWT>=2.8.0 in /Users/Jack/Documents/vl-sdk/vl-sdk/venv/lib/python3.13/site-packages (from visual-layer-sdk==0.1.24) (2.10.1)\n",
      "Requirement already satisfied: pandas>=2.2.0 in /Users/Jack/Documents/vl-sdk/vl-sdk/venv/lib/python3.13/site-packages (from visual-layer-sdk==0.1.24) (2.3.1)\n",
      "Requirement already satisfied: numpy>=1.26.0 in /Users/Jack/Documents/vl-sdk/vl-sdk/venv/lib/python3.13/site-packages (from pandas>=2.2.0->visual-layer-sdk==0.1.24) (2.3.1)\n",
      "Requirement already satisfied: python-dateutil>=2.8.2 in /Users/Jack/Documents/vl-sdk/vl-sdk/venv/lib/python3.13/site-packages (from pandas>=2.2.0->visual-layer-sdk==0.1.24) (2.9.0.post0)\n",
      "Requirement already satisfied: pytz>=2020.1 in /Users/Jack/Documents/vl-sdk/vl-sdk/venv/lib/python3.13/site-packages (from pandas>=2.2.0->visual-layer-sdk==0.1.24) (2025.2)\n",
      "Requirement already satisfied: tzdata>=2022.7 in /Users/Jack/Documents/vl-sdk/vl-sdk/venv/lib/python3.13/site-packages (from pandas>=2.2.0->visual-layer-sdk==0.1.24) (2025.2)\n",
      "Requirement already satisfied: six>=1.5 in /Users/Jack/Documents/vl-sdk/vl-sdk/venv/lib/python3.13/site-packages (from python-dateutil>=2.8.2->pandas>=2.2.0->visual-layer-sdk==0.1.24) (1.17.0)\n",
      "Requirement already satisfied: charset_normalizer<4,>=2 in /Users/Jack/Documents/vl-sdk/vl-sdk/venv/lib/python3.13/site-packages (from requests>=2.31.0->visual-layer-sdk==0.1.24) (3.4.2)\n",
      "Requirement already satisfied: idna<4,>=2.5 in /Users/Jack/Documents/vl-sdk/vl-sdk/venv/lib/python3.13/site-packages (from requests>=2.31.0->visual-layer-sdk==0.1.24) (3.10)\n",
      "Requirement already satisfied: urllib3<3,>=1.21.1 in /Users/Jack/Documents/vl-sdk/vl-sdk/venv/lib/python3.13/site-packages (from requests>=2.31.0->visual-layer-sdk==0.1.24) (2.5.0)\n",
      "Requirement already satisfied: certifi>=2017.4.17 in /Users/Jack/Documents/vl-sdk/vl-sdk/venv/lib/python3.13/site-packages (from requests>=2.31.0->visual-layer-sdk==0.1.24) (2025.7.14)\n",
      "\n",
      "\u001b[1m[\u001b[0m\u001b[34;49mnotice\u001b[0m\u001b[1;39;49m]\u001b[0m\u001b[39;49m A new release of pip is available: \u001b[0m\u001b[31;49m25.1.1\u001b[0m\u001b[39;49m -> \u001b[0m\u001b[32;49m25.2\u001b[0m\n",
      "\u001b[1m[\u001b[0m\u001b[34;49mnotice\u001b[0m\u001b[1;39;49m]\u001b[0m\u001b[39;49m To update, run: \u001b[0m\u001b[32;49mpip install --upgrade pip\u001b[0m\n",
      "Note: you may need to restart the kernel to use updated packages.\n"
     ]
    }
   ],
   "source": [
    "pip install -i https://test.pypi.org/simple/ visual-layer-sdk==0.1.24"
   ]
  },
  {
   "cell_type": "code",
   "execution_count": 3,
   "id": "b9d7dd21-e350-41e7-b03c-da73ba8fe4ea",
   "metadata": {},
   "outputs": [
    {
     "name": "stdout",
     "output_type": "stream",
     "text": [
      "client status: {'status': 'Green', 'service-health-message': 'none', 'version': '2.42.190'}\n"
     ]
    }
   ],
   "source": [
    "import os\n",
    "import matplotlib.pyplot as plt\n",
    "import matplotlib.image as mpimg\n",
    "from IPython.display import Image, display\n",
    "from visual_layer_sdk import VisualLayerClient\n",
    "from visual_layer_sdk.dataset import IssueType, SearchOperator, SemanticRelevance\n",
    "from dotenv import load_dotenv\n",
    "load_dotenv()\n",
    "VL_API_KEY = os.getenv('VISUAL_LAYER_API_KEY')\n",
    "VL_API_SECRET = os.getenv('VISUAL_LAYER_API_SECRET')\n",
    "\n",
    "if VL_API_KEY is None or VL_API_SECRET is None:\n",
    "    raise EnvironmentError(\"Please configure VISUAL_LAYER_API_KEY and VISUAL_LAYER_API_SECRET environment variable.\")\n",
    "\n",
    "# Initialize the client and do a quick health check\n",
    "client = VisualLayerClient(api_key=VL_API_KEY, api_secret=VL_API_SECRET)\n",
    "print(f\"client status: {client.healthcheck()}\")"
   ]
  },
  {
   "cell_type": "code",
   "execution_count": 4,
   "id": "a18b2a9b-1155-4dff-9c45-09e03081f10a",
   "metadata": {},
   "outputs": [],
   "source": [
    "# utility function to display images in a given dataset with input image IDs\n",
    "def display_images(ds, image_uris):\n",
    "    for index, image_uri in enumerate(image_uris):\n",
    "        image_url = ds.get_image_info(image_uri)['image_uri']\n",
    "        display(Image(url=image_url))"
   ]
  },
  {
   "cell_type": "markdown",
   "id": "dbba811e-6539-4ef7-b224-516804acbfb4",
   "metadata": {},
   "source": [
    "# Basic Dataset Exploration APIs"
   ]
  },
  {
   "cell_type": "code",
   "execution_count": 5,
   "id": "bf5c7afa-4d57-447d-8058-ec8a9c9e6956",
   "metadata": {},
   "outputs": [
    {
     "name": "stdout",
     "output_type": "stream",
     "text": [
      "Found 40 datasets\n"
     ]
    }
   ],
   "source": [
    "# Get all datasets\n",
    "datasets = client.get_all_datasets()\n",
    "print(f\"Found {len(datasets)} datasets\")"
   ]
  },
  {
   "cell_type": "code",
   "execution_count": 6,
   "id": "b8a43a38-1206-4039-92aa-05735e016325",
   "metadata": {},
   "outputs": [
    {
     "name": "stdout",
     "output_type": "stream",
     "text": [
      "Dataset details: {'id': 'b66848f6-56d1-11f0-9bb7-7e21cd95c256', 'created_by': 'd92cf865-4110-404d-8250-97711aaaf3ae', 'source_dataset_id': None, 'owned_by': 'VL', 'display_name': 'Dataset 11', 'description': '', 'preview_uri': '', 'source_type': 'VL', 'source_uri': '', 'created_at': '2025-07-01T23:18:35.728673', 'updated_at': None, 'filename': None, 'sample': None, 'status': 'INITIALIZING'}\n"
     ]
    }
   ],
   "source": [
    "# Get a specific dataset by dataset ID\n",
    "ds_id = datasets.iloc[0]['id']\n",
    "ds = client.get_dataset_object(ds_id)\n",
    "details = ds.get_details()\n",
    "print(f\"Dataset details: {details}\")"
   ]
  },
  {
   "cell_type": "code",
   "execution_count": 7,
   "id": "895be23b-bb2e-47c1-ad8f-ec61c6a6ba5c",
   "metadata": {},
   "outputs": [
    {
     "data": {
      "text/html": [
       "<img src=\"https://d2iycffepdu1yp.cloudfront.net/bc41491e-78ae-11ef-ba4b-8a774758b536/0/c4027963-5526-4b72-a82e-7df82e831ac3.jpg\"/>"
      ],
      "text/plain": [
       "<IPython.core.display.Image object>"
      ]
     },
     "metadata": {},
     "output_type": "display_data"
    },
    {
     "data": {
      "text/html": [
       "<img src=\"https://d2iycffepdu1yp.cloudfront.net/bc41491e-78ae-11ef-ba4b-8a774758b536/0/cb944d90-deb0-44f6-893c-01d6d4495778.jpg\"/>"
      ],
      "text/plain": [
       "<IPython.core.display.Image object>"
      ]
     },
     "metadata": {},
     "output_type": "display_data"
    }
   ],
   "source": [
    "# Get a specific dataset by dataset ID, the 'Beans Enriched' dataset is a public dataset you can explore\n",
    "LEAF_DATASET_ID = 'bc41491e-78ae-11ef-ba4b-8a774758b536' \n",
    "leaf_ds = client.get_dataset_object(LEAF_DATASET_ID)\n",
    "\n",
    "# export all images in the dataset to a dataframe\n",
    "leaf_df = leaf_ds.export_to_dataframe()\n",
    "\n",
    "# display first 2 images\n",
    "display_images(leaf_ds, leaf_df.iloc[:2]['media_id'])"
   ]
  },
  {
   "cell_type": "markdown",
   "id": "80c80c78-2af2-482f-b7ca-9893c4289f02",
   "metadata": {},
   "source": [
    "# 5 Search Methods in Visual Layer SDK\n",
    "\n",
    "The SDK provides 5 main search methods:\n",
    "1. **Label Search** - Find images by object/classification labels\n",
    "2. **Caption Search** - Semantic search using AI-generated captions\n",
    "3. **Issue Search** - Filter by quality issues (blur, brightness, etc.)\n",
    "4. **Visual Similarity Search** - Find visually similar images\n",
    "5. **Semantic Search** - Natural language search with relevance control"
   ]
  },
  {
   "cell_type": "markdown",
   "id": "label-search-section",
   "metadata": {},
   "source": [
    "## 1. Label Search\n",
    "\n",
    "Search for images containing specific labels or classifications."
   ]
  },
  {
   "cell_type": "code",
   "execution_count": 8,
   "id": "249f6872-1abc-4796-810e-24d1a8643a67",
   "metadata": {},
   "outputs": [
    {
     "name": "stdout",
     "output_type": "stream",
     "text": [
      "Found 868 images with angular_leaf_spot or bean_rust\n"
     ]
    },
    {
     "data": {
      "text/html": [
       "<img src=\"https://d2iycffepdu1yp.cloudfront.net/bc41491e-78ae-11ef-ba4b-8a774758b536/1/289bbf8c-a9fb-4cae-8cca-caa0b57e4e3e.jpg\"/>"
      ],
      "text/plain": [
       "<IPython.core.display.Image object>"
      ]
     },
     "metadata": {},
     "output_type": "display_data"
    },
    {
     "data": {
      "text/html": [
       "<img src=\"https://d2iycffepdu1yp.cloudfront.net/bc41491e-78ae-11ef-ba4b-8a774758b536/0/79e580e0-c7a0-485f-9039-7a3befe72fdf.jpg\"/>"
      ],
      "text/plain": [
       "<IPython.core.display.Image object>"
      ]
     },
     "metadata": {},
     "output_type": "display_data"
    }
   ],
   "source": [
    "# Search datasets by labels\n",
    "# Find the leaf with spot and bean rust\n",
    "filtered_df = leaf_ds.search_by_labels(labels=['angular_leaf_spot', 'bean_rust'])\n",
    "\n",
    "print(f\"Found {len(filtered_df)} images with angular_leaf_spot or bean_rust\")\n",
    "\n",
    "# display first 2 images\n",
    "if not filtered_df.empty:\n",
    "    display_images(leaf_ds, filtered_df.iloc[:2]['media_id'])"
   ]
  },
  {
   "cell_type": "code",
   "execution_count": 9,
   "id": "label-search-single",
   "metadata": {},
   "outputs": [
    {
     "name": "stdout",
     "output_type": "stream",
     "text": [
      "Found 427 images with healthy leaves\n"
     ]
    },
    {
     "data": {
      "text/html": [
       "<img src=\"https://d2iycffepdu1yp.cloudfront.net/bc41491e-78ae-11ef-ba4b-8a774758b536/0/c4027963-5526-4b72-a82e-7df82e831ac3.jpg\"/>"
      ],
      "text/plain": [
       "<IPython.core.display.Image object>"
      ]
     },
     "metadata": {},
     "output_type": "display_data"
    },
    {
     "data": {
      "text/html": [
       "<img src=\"https://d2iycffepdu1yp.cloudfront.net/bc41491e-78ae-11ef-ba4b-8a774758b536/0/cb944d90-deb0-44f6-893c-01d6d4495778.jpg\"/>"
      ],
      "text/plain": [
       "<IPython.core.display.Image object>"
      ]
     },
     "metadata": {},
     "output_type": "display_data"
    }
   ],
   "source": [
    "# Search for a single label\n",
    "healthy_leaf_df = leaf_ds.search_by_labels(labels='healthy')\n",
    "print(f\"Found {len(healthy_leaf_df)} images with healthy leaves\")\n",
    "\n",
    "if not healthy_leaf_df.empty:\n",
    "    display_images(leaf_ds, healthy_leaf_df.iloc[:2]['media_id'])"
   ]
  },
  {
   "cell_type": "markdown",
   "id": "caption-search-section",
   "metadata": {},
   "source": [
    "## 2. Caption Search\n",
    "\n",
    "Search using natural language descriptions generated by AI."
   ]
  },
  {
   "cell_type": "code",
   "execution_count": 10,
   "id": "6609bdae-e823-47f4-962e-14228d363ce9",
   "metadata": {},
   "outputs": [
    {
     "name": "stdout",
     "output_type": "stream",
     "text": [
      "Found 463 images matching 'a person holding leaf'\n"
     ]
    },
    {
     "data": {
      "text/html": [
       "<img src=\"https://d2iycffepdu1yp.cloudfront.net/bc41491e-78ae-11ef-ba4b-8a774758b536/0/c4027963-5526-4b72-a82e-7df82e831ac3.jpg\"/>"
      ],
      "text/plain": [
       "<IPython.core.display.Image object>"
      ]
     },
     "metadata": {},
     "output_type": "display_data"
    },
    {
     "data": {
      "text/html": [
       "<img src=\"https://d2iycffepdu1yp.cloudfront.net/bc41491e-78ae-11ef-ba4b-8a774758b536/0/cb944d90-deb0-44f6-893c-01d6d4495778.jpg\"/>"
      ],
      "text/plain": [
       "<IPython.core.display.Image object>"
      ]
     },
     "metadata": {},
     "output_type": "display_data"
    }
   ],
   "source": [
    "# Search datasets by captions\n",
    "# find the data with a person holding leaf\n",
    "filtered_df = leaf_ds.search_by_captions(captions=['a person holding leaf'])\n",
    "\n",
    "print(f\"Found {len(filtered_df)} images matching 'a person holding leaf'\")\n",
    "\n",
    "if not filtered_df.empty:\n",
    "    display_images(leaf_ds, filtered_df.iloc[:2]['media_id'])"
   ]
  },
  {
   "cell_type": "code",
   "execution_count": 11,
   "id": "caption-search-single",
   "metadata": {},
   "outputs": [
    {
     "name": "stdout",
     "output_type": "stream",
     "text": [
      "Found 1047 images matching 'leaf'\n"
     ]
    },
    {
     "data": {
      "text/html": [
       "<img src=\"https://d2iycffepdu1yp.cloudfront.net/bc41491e-78ae-11ef-ba4b-8a774758b536/0/c4027963-5526-4b72-a82e-7df82e831ac3.jpg\"/>"
      ],
      "text/plain": [
       "<IPython.core.display.Image object>"
      ]
     },
     "metadata": {},
     "output_type": "display_data"
    },
    {
     "data": {
      "text/html": [
       "<img src=\"https://d2iycffepdu1yp.cloudfront.net/bc41491e-78ae-11ef-ba4b-8a774758b536/0/cb944d90-deb0-44f6-893c-01d6d4495778.jpg\"/>"
      ],
      "text/plain": [
       "<IPython.core.display.Image object>"
      ]
     },
     "metadata": {},
     "output_type": "display_data"
    }
   ],
   "source": [
    "# Search with a single caption string\n",
    "disease_df = leaf_ds.search_by_captions(captions='leaf')\n",
    "print(f\"Found {len(disease_df)} images matching 'leaf'\")\n",
    "\n",
    "if not disease_df.empty:\n",
    "    display_images(leaf_ds, disease_df.iloc[:2]['media_id'])"
   ]
  },
  {
   "cell_type": "markdown",
   "id": "issue-search-section",
   "metadata": {},
   "source": [
    "## 3. Issue Search\n",
    "\n",
    "Filter images by quality issues like blur, brightness, etc."
   ]
  },
  {
   "cell_type": "code",
   "execution_count": 12,
   "id": "41ed0fe1-6746-4057-b1d4-348d6267ee33",
   "metadata": {},
   "outputs": [
    {
     "name": "stdout",
     "output_type": "stream",
     "text": [
      "Found 90 blurry images\n"
     ]
    },
    {
     "data": {
      "text/html": [
       "<img src=\"https://d2iycffepdu1yp.cloudfront.net/3972b3fc-1809-11ef-bb76-064432e0d220/0/ddfe635b-fb43-414b-a010-904387e3295e.jpg\"/>"
      ],
      "text/plain": [
       "<IPython.core.display.Image object>"
      ]
     },
     "metadata": {},
     "output_type": "display_data"
    },
    {
     "data": {
      "text/html": [
       "<img src=\"https://d2iycffepdu1yp.cloudfront.net/3972b3fc-1809-11ef-bb76-064432e0d220/1/dbde73d1-f069-4630-9bc8-5e0af6bf23a1.jpg\"/>"
      ],
      "text/plain": [
       "<IPython.core.display.Image object>"
      ]
     },
     "metadata": {},
     "output_type": "display_data"
    }
   ],
   "source": [
    "# Search datasets by issue types\n",
    "PET_DATASET_ID = '3972b3fc-1809-11ef-bb76-064432e0d220'\n",
    "pet_dataset = client.get_dataset_object(PET_DATASET_ID)\n",
    "\n",
    "# Find dataset that are blur\n",
    "filtered_df = pet_dataset.search_by_issues(issue_type=IssueType.BLUR)\n",
    "print(f\"Found {len(filtered_df)} blurry images\")\n",
    "\n",
    "if not filtered_df.empty:\n",
    "    display_images(pet_dataset, filtered_df.iloc[:2]['media_id'])"
   ]
  },
  {
   "cell_type": "code",
   "execution_count": 13,
   "id": "issue-search-multiple",
   "metadata": {},
   "outputs": [
    {
     "name": "stdout",
     "output_type": "stream",
     "text": [
      "Found 8 images with quality issues\n"
     ]
    },
    {
     "data": {
      "text/html": [
       "<img src=\"https://d2iycffepdu1yp.cloudfront.net/3972b3fc-1809-11ef-bb76-064432e0d220/1/42a90b56-3643-4058-a7c8-6857f1d70da6.jpg\"/>"
      ],
      "text/plain": [
       "<IPython.core.display.Image object>"
      ]
     },
     "metadata": {},
     "output_type": "display_data"
    },
    {
     "data": {
      "text/html": [
       "<img src=\"https://d2iycffepdu1yp.cloudfront.net/3972b3fc-1809-11ef-bb76-064432e0d220/5/368f1a04-3809-44f4-b204-0f9a0a599c22.jpg\"/>"
      ],
      "text/plain": [
       "<IPython.core.display.Image object>"
      ]
     },
     "metadata": {},
     "output_type": "display_data"
    }
   ],
   "source": [
    "# Search for multiple issue types\n",
    "quality_issues_df = pet_dataset.search_by_issues(\n",
    "    issue_type=[IssueType.OUTLIERS]\n",
    ")\n",
    "print(f\"Found {len(quality_issues_df)} images with quality issues\")\n",
    "\n",
    "if not quality_issues_df.empty:\n",
    "    display_images(pet_dataset, quality_issues_df.iloc[1:3]['media_id'])"
   ]
  },
  {
   "cell_type": "markdown",
   "id": "visual-similarity-section",
   "metadata": {},
   "source": [
    "## 4. Visual Similarity Search\n",
    "\n",
    "Find images visually similar to a reference image."
   ]
  },
  {
   "cell_type": "code",
   "execution_count": 20,
   "id": "e4a50193-5a7d-4f11-86c5-5865dc867a31",
   "metadata": {},
   "outputs": [
    {
     "name": "stdout",
     "output_type": "stream",
     "text": [
      "Found 476 visually similar images\n"
     ]
    },
    {
     "data": {
      "text/html": [
       "<img src=\"https://d2iycffepdu1yp.cloudfront.net/3972b3fc-1809-11ef-bb76-064432e0d220/1/31d0e2e3-9114-4a0c-a471-a70f13e859fa.jpg\"/>"
      ],
      "text/plain": [
       "<IPython.core.display.Image object>"
      ]
     },
     "metadata": {},
     "output_type": "display_data"
    },
    {
     "data": {
      "text/html": [
       "<img src=\"https://d2iycffepdu1yp.cloudfront.net/3972b3fc-1809-11ef-bb76-064432e0d220/1/f310edd4-790b-424f-b84d-1db844f200bb.jpg\"/>"
      ],
      "text/plain": [
       "<IPython.core.display.Image object>"
      ]
     },
     "metadata": {},
     "output_type": "display_data"
    }
   ],
   "source": [
    "# Similarity search, upload a file from your local folder \n",
    "local_image = os.path.join(os.getcwd(), 'dog.jpeg')\n",
    "                      \n",
    "similar_images_df = pet_dataset.search_by_visual_similarity(image_path=local_image, threshold=0.4)\n",
    "print(f\"Found {len(similar_images_df)} visually similar images\")\n",
    "\n",
    "if not similar_images_df.empty:\n",
    "    display_images(pet_dataset, similar_images_df.iloc[:2]['media_id'])"
   ]
  },
  {
   "cell_type": "code",
   "execution_count": 15,
   "id": "visual-similarity-multiple",
   "metadata": {},
   "outputs": [],
   "source": [
    "# Search with multiple reference images\n",
    "# similar_images_df = pet_dataset.search_by_visual_similarity(\n",
    "#     image_path=[local_image, 'path/to/another/image.jpg']\n",
    "# )\n",
    "# print(f\"Found {len(similar_images_df)} images similar to reference images\")\n",
    "\n",
    "# if not similar_images_df.empty:\n",
    "#     display_images(pet_dataset, similar_images_df.iloc[:2]['media_id'])"
   ]
  },
  {
   "cell_type": "markdown",
   "id": "semantic-search-section",
   "metadata": {},
   "source": [
    "## 5. Semantic Search\n",
    "\n",
    "Natural language search with relevance control."
   ]
  },
  {
   "cell_type": "code",
   "execution_count": 16,
   "id": "semantic-search-basic",
   "metadata": {},
   "outputs": [
    {
     "name": "stdout",
     "output_type": "stream",
     "text": [
      "Found 608 images semantically matching 'vehicle'\n"
     ]
    },
    {
     "data": {
      "text/html": [
       "<img src=\"https://d2iycffepdu1yp.cloudfront.net/83e13af6-5b67-11f0-ae55-825b18749830/5/47e45070-88d5-4638-9dd7-99a95eb504f3.jpg\"/>"
      ],
      "text/plain": [
       "<IPython.core.display.Image object>"
      ]
     },
     "metadata": {},
     "output_type": "display_data"
    },
    {
     "data": {
      "text/html": [
       "<img src=\"https://d2iycffepdu1yp.cloudfront.net/83e13af6-5b67-11f0-ae55-825b18749830/1/0f7e5014-35be-49e7-874e-04aa50d85df5.jpg\"/>"
      ],
      "text/plain": [
       "<IPython.core.display.Image object>"
      ]
     },
     "metadata": {},
     "output_type": "display_data"
    }
   ],
   "source": [
    "# Semantic search with default relevance\n",
    "SEARCH_DATASET_ID = '83e13af6-5b67-11f0-ae55-825b18749830'\n",
    "search_dataset = client.get_dataset_object(SEARCH_DATASET_ID)\n",
    "\n",
    "\n",
    "\n",
    "semantic_df = search_dataset.search_by_semantic(text=\"vehicle\")\n",
    "print(f\"Found {len(semantic_df)} images semantically matching 'vehicle'\")\n",
    "\n",
    "if not semantic_df.empty:\n",
    "    display_images(pet_dataset, semantic_df.iloc[:2]['media_id'])"
   ]
  },
  {
   "cell_type": "code",
   "execution_count": 17,
   "id": "semantic-search-relevance",
   "metadata": {},
   "outputs": [
    {
     "name": "stdout",
     "output_type": "stream",
     "text": [
      "⚠️  Semantic search is not enabled for this dataset.\n",
      "Found 0 images with high relevance to 'dog playing'\n",
      "⚠️  Semantic search is not enabled for this dataset.\n",
      "Found 0 images with low relevance to 'dog playing'\n"
     ]
    }
   ],
   "source": [
    "# Semantic search with different relevance levels\n",
    "# High relevance (more strict matching)\n",
    "high_relevance_df = pet_dataset.search_by_semantic(\n",
    "    text=\"dog playing\", \n",
    "    relevance=SemanticRelevance.HIGH_RELEVANCE\n",
    ")\n",
    "print(f\"Found {len(high_relevance_df)} images with high relevance to 'dog playing'\")\n",
    "\n",
    "# Low relevance (more lenient matching)\n",
    "low_relevance_df = pet_dataset.search_by_semantic(\n",
    "    text=\"dog playing\", \n",
    "    relevance=SemanticRelevance.LOW_RELEVANCE\n",
    ")\n",
    "print(f\"Found {len(low_relevance_df)} images with low relevance to 'dog playing'\")\n",
    "\n",
    "if not high_relevance_df.empty:\n",
    "    print(\"\\nHigh relevance results:\")\n",
    "    display_images(pet_dataset, high_relevance_df.iloc[:2]['media_id'])\n",
    "\n",
    "if not low_relevance_df.empty:\n",
    "    print(\"\\nLow relevance results:\")\n",
    "    display_images(pet_dataset, low_relevance_df.iloc[:2]['media_id'])"
   ]
  },
  {
   "cell_type": "markdown",
   "id": "search-operators-section",
   "metadata": {},
   "source": [
    "## Search Operators\n",
    "\n",
    "Different search methods support various operators for more precise filtering:"
   ]
  },
  {
   "cell_type": "code",
   "execution_count": 18,
   "id": "search-operators-example",
   "metadata": {},
   "outputs": [
    {
     "name": "stdout",
     "output_type": "stream",
     "text": [
      "Found 868 images with any of the specified labels\n",
      "Found 463 images matching combined caption text\n"
     ]
    }
   ],
   "source": [
    "# Label search with different operators\n",
    "# IS_ONE_OF (default) - find images with any of the specified labels\n",
    "any_label_df = leaf_ds.search_by_labels(\n",
    "    labels=['angular_leaf_spot', 'bean_rust'], \n",
    "    search_operator=SearchOperator.IS_ONE_OF\n",
    ")\n",
    "print(f\"Found {len(any_label_df)} images with any of the specified labels\")\n",
    "\n",
    "# IS - find images with all specified labels (when multiple labels)\n",
    "# IS_NOT - find images that don't match the labels\n",
    "# IS_NOT_ONE_OF - find images that don't have any of the specified labels\n",
    "\n",
    "# Caption search with different operators\n",
    "# IS (default) - find images matching the combined caption text\n",
    "combined_caption_df = leaf_ds.search_by_captions(\n",
    "    captions=['person', 'holding', 'leaf'], \n",
    "    search_operator=SearchOperator.IS\n",
    ")\n",
    "print(f\"Found {len(combined_caption_df)} images matching combined caption text\")"
   ]
  },
  {
   "cell_type": "code",
   "execution_count": null,
   "id": "7e11cfb6-b2b2-4d6e-aae3-b14995ccb4a6",
   "metadata": {},
   "outputs": [],
   "source": []
  },
  {
   "cell_type": "code",
   "execution_count": null,
   "id": "d12769b8-703b-40ff-a207-ca3d6378bf3a",
   "metadata": {},
   "outputs": [],
   "source": []
  }
 ],
 "metadata": {
  "kernelspec": {
   "display_name": "Python 3 (ipykernel)",
   "language": "python",
   "name": "python3"
  },
  "language_info": {
   "codemirror_mode": {
    "name": "ipython",
    "version": 3
   },
   "file_extension": ".py",
   "mimetype": "text/x-python",
   "name": "python",
   "nbconvert_exporter": "python",
   "pygments_lexer": "ipython3",
   "version": "3.13.3"
  }
 },
 "nbformat": 4,
 "nbformat_minor": 5
}
